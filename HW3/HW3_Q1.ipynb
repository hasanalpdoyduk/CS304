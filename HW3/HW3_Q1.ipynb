{
  "nbformat": 4,
  "nbformat_minor": 0,
  "metadata": {
    "colab": {
      "provenance": []
    },
    "kernelspec": {
      "name": "python3",
      "display_name": "Python 3"
    },
    "language_info": {
      "name": "python"
    }
  },
  "cells": [
    {
      "cell_type": "markdown",
      "source": [
        "# Homework 3 - Question 1"
      ],
      "metadata": {
        "id": "RSGelm8dyxpi"
      }
    },
    {
      "cell_type": "markdown",
      "source": [
        "## Part a)\n",
        "\n",
        "Compute the PCA and LDA 1D projections for the following 2D dataset:\n",
        "\n",
        "Samples for class 1 (𝜔1): 𝐗𝟏 = (𝑥1, 𝑥2) = {(4,2), (2,4), (2,3), (3,6), (4,4)}\n",
        "\n",
        "Samples for class 2 (𝜔2): 𝐗𝟐 = (𝑥1, 𝑥2) = {(6,8), (9,5), (8,7), (10,8)}\n",
        "\n",
        "Draw the two principal components on the plot for PCA as vectors, as well as the projected blue and red points in 1D.\n",
        "\n",
        "Draw the projected 1D data using LDA.\n"
      ],
      "metadata": {
        "id": "WS6cHsTzy8mZ"
      }
    },
    {
      "cell_type": "code",
      "source": [
        "\"\"\"\n",
        "required libraries\n",
        "\n",
        "import numpy as np\n",
        "import matplotlib.pyplot as plt\n",
        "from sklearn.decomposition import PCA\n",
        "from sklearn.discriminant_analysis import LinearDiscriminantAnalysis as LDA\n",
        "\"\"\""
      ],
      "metadata": {
        "colab": {
          "base_uri": "https://localhost:8080/",
          "height": 71
        },
        "id": "Da0J5sEWl3SM",
        "outputId": "12b2466a-7254-4a3b-d770-0e1396b824ff"
      },
      "execution_count": 44,
      "outputs": [
        {
          "output_type": "execute_result",
          "data": {
            "text/plain": [
              "'\\nrequired libraries\\n\\nimport numpy as np\\nimport matplotlib.pyplot as plt\\nfrom sklearn.decomposition import PCA\\nfrom sklearn.discriminant_analysis import LinearDiscriminantAnalysis as LDA\\n'"
            ],
            "application/vnd.google.colaboratory.intrinsic+json": {
              "type": "string"
            }
          },
          "metadata": {},
          "execution_count": 44
        }
      ]
    },
    {
      "cell_type": "markdown",
      "source": [
        "Step 1: Define Data Points\n",
        "\n",
        "Step 2: PCA - Principal Component Analysis\n",
        "\n",
        "1.   Centering the dataset (subtracting the mean from all data points)\n",
        "2.   Computing the covariance of the dataset\n",
        "3.   Calculate the eigenvalues and eigenvectors of the covariance matrix.\n",
        "4.   Finding the principal component with the highest eigenvalue.\n",
        "\n",
        "Step 3: LDA - Linear Discriminant Analysis\n",
        "\n",
        "1.   Compute the means of each class.\n",
        "2.   Calculate the between-class and within-class scatter matrices.\n",
        "3.   Compute the eigenvalues and eigenvectors for the matrix derived from the scatter matrices.\n",
        "4.   Project the data onto the vector corresponding to the largest eigenvalue.\n",
        "\n",
        "Step 4: Plotting"
      ],
      "metadata": {
        "id": "AsIwzbKTRKbW"
      }
    },
    {
      "cell_type": "code",
      "source": [
        "import numpy as np\n",
        "\n",
        "# Step 1: Define data points\n",
        "\n",
        "X1_a = np.array([[4, 2], [2, 4], [2, 3], [3, 6], [4, 4]])\n",
        "X2_a = np.array([[6, 8], [9, 5], [8, 7], [10, 8]])\n",
        "\n",
        "# Combine the datasets\n",
        "X_a = np.concatenate((X1_a, X2_a))\n",
        "# Same with X_a = np.vstack((X1_a, X2_a))\n",
        "# Both returns ndarray\n",
        "\n",
        "# Label the dataset\n",
        "y_a = np.array([0] * 5 + [1] * 4)\n",
        "# Class labels: 0 for Class 1, 1 for Class 2\n",
        "\n",
        "print(X_a)\n",
        "print(y_a)"
      ],
      "metadata": {
        "colab": {
          "base_uri": "https://localhost:8080/"
        },
        "id": "s_7GUdHpzRPU",
        "outputId": "23c479f2-7a6e-4daa-9ed1-8202e7c4eb10"
      },
      "execution_count": 45,
      "outputs": [
        {
          "output_type": "stream",
          "name": "stdout",
          "text": [
            "[[ 4  2]\n",
            " [ 2  4]\n",
            " [ 2  3]\n",
            " [ 3  6]\n",
            " [ 4  4]\n",
            " [ 6  8]\n",
            " [ 9  5]\n",
            " [ 8  7]\n",
            " [10  8]]\n",
            "[0 0 0 0 0 1 1 1 1]\n"
          ]
        }
      ]
    },
    {
      "cell_type": "code",
      "source": [
        "from sklearn.decomposition import PCA\n",
        "\n",
        "# Step 2: PCA\n",
        "\n",
        "pca_a = PCA(n_components=2)\n",
        "\n",
        "# Find the principal components\n",
        "pca_a.fit(X_a)\n",
        "\n",
        "# Rotate X into the new coordinate system:\n",
        "X_pca_a = pca_a.transform(X_a)\n",
        "\n",
        "print(type(pca_a))\n",
        "print(\"\\n\", X_pca_a)"
      ],
      "metadata": {
        "colab": {
          "base_uri": "https://localhost:8080/"
        },
        "id": "mjeuchGnWnsH",
        "outputId": "68bce64b-eb1a-444b-9562-07d3dc991bd5"
      },
      "execution_count": 46,
      "outputs": [
        {
          "output_type": "stream",
          "name": "stdout",
          "text": [
            "<class 'sklearn.decomposition._pca.PCA'>\n",
            "\n",
            " [[-2.80323768  2.07421126]\n",
            " [-3.48646324 -0.67045681]\n",
            " [-4.00182387  0.1865166 ]\n",
            " [-1.59876858 -1.869043  ]\n",
            " [-1.77251642  0.36026444]\n",
            " [ 2.0028729  -2.03690794]\n",
            " [ 3.02771125  2.08009417]\n",
            " [ 3.20145909 -0.14921328]\n",
            " [ 5.43076654  0.02453457]]\n"
          ]
        }
      ]
    },
    {
      "cell_type": "code",
      "source": [
        "\"\"\"\n",
        "# coeficients of the original components to produce the new components:\n",
        "pca.components_\n",
        "# variance of projections per component:\n",
        "pca.explained_variance_\n",
        "# ratio of explained variance per component:\n",
        "pca.explained_variance_ratio_\n",
        "\"\"\""
      ],
      "metadata": {
        "colab": {
          "base_uri": "https://localhost:8080/",
          "height": 71
        },
        "id": "U4k1MIv_ANO2",
        "outputId": "ba7cf11d-0a6e-41f9-ab7c-3691153132f2"
      },
      "execution_count": 47,
      "outputs": [
        {
          "output_type": "execute_result",
          "data": {
            "text/plain": [
              "'\\n# coeficients of the original components to produce the new components:\\npca.components_\\n# variance of projections per component:\\npca.explained_variance_\\n# ratio of explained variance per component:\\npca.explained_variance_ratio_\\n'"
            ],
            "application/vnd.google.colaboratory.intrinsic+json": {
              "type": "string"
            }
          },
          "metadata": {},
          "execution_count": 47
        }
      ]
    },
    {
      "cell_type": "code",
      "source": [
        "from sklearn.discriminant_analysis import LinearDiscriminantAnalysis as LDA\n",
        "\n",
        "# Step 3: LDA\n",
        "\n",
        "lda_a = LDA(n_components=1)\n",
        "\n",
        "# Transform data using LDA\n",
        "X_lda_a = lda_a.fit_transform(X_a, y_a)"
      ],
      "metadata": {
        "id": "KkGVumP3W2Bw"
      },
      "execution_count": 48,
      "outputs": []
    },
    {
      "cell_type": "code",
      "source": [
        "\"\"\"\n",
        "# Train a logistic regression classifier using transformed training data\n",
        "lr = LogisticRegression(multi_class='ovr', random_state=1, solver='lbfgs')\n",
        "lr = lr.fit(X_train_lda, y_train)\n",
        "# transform the test data with the same LDA parameters and classify test set\n",
        "X_test_lda = lda.transform(X_test)\n",
        "lr.score(X_test_lda, y_test)\n",
        "\"\"\""
      ],
      "metadata": {
        "colab": {
          "base_uri": "https://localhost:8080/",
          "height": 89
        },
        "id": "pG0xrWZkQEEA",
        "outputId": "fc6f444f-21bf-43ee-bb18-d3d203f1221a"
      },
      "execution_count": 49,
      "outputs": [
        {
          "output_type": "execute_result",
          "data": {
            "text/plain": [
              "\"\\n# Train a logistic regression classifier using transformed training data\\nlr = LogisticRegression(multi_class='ovr', random_state=1, solver='lbfgs')\\nlr = lr.fit(X_train_lda, y_train)\\n# transform the test data with the same LDA parameters and classify test set\\nX_test_lda = lda.transform(X_test)\\nlr.score(X_test_lda, y_test)\\n\""
            ],
            "application/vnd.google.colaboratory.intrinsic+json": {
              "type": "string"
            }
          },
          "metadata": {},
          "execution_count": 49
        }
      ]
    },
    {
      "cell_type": "code",
      "source": [
        "import matplotlib.pyplot as plt\n",
        "\n",
        "# Step 4: Plotting\n",
        "\n",
        "# Initializing the figure\n",
        "fig = plt.figure(figsize=(6, 10))\n",
        "\n",
        "# Creating subplots\n",
        "ax = fig.subplots(2)\n",
        "\n",
        "\n",
        "ax[0].set_title(\"PCA\")\n",
        "\n",
        "ax[0].scatter(X1_a[:,0], X1_a[:,1], color='red', label='X 1')\n",
        "ax[0].scatter(X2_a[:,0], X2_a[:,1], color='blue', label='X 2')\n",
        "\n",
        "ax[0].quiver(*np.mean(X_a, axis=0), *pca_a.components_[0], scale=2, color=\"black\")\n",
        "\n",
        "ax[0].legend()\n",
        "ax[0].grid(True)\n",
        "\n",
        "\n",
        "ax[1].set_title(\"LDA\")\n",
        "\n",
        "ax[1].scatter(X_lda_a[y_a==0], np.zeros_like(X_lda_a[y_a==0]), color=\"red\", label=\"X 1\")\n",
        "ax[1].scatter(X_lda_a[y_a==1], np.zeros_like(X_lda_a[y_a==1]), color=\"blue\", label=\"X 2\")\n",
        "\n",
        "ax[1].legend()\n",
        "ax[1].grid(True)\n",
        "\n",
        "plt.tight_layout()\n",
        "plt.show()"
      ],
      "metadata": {
        "colab": {
          "base_uri": "https://localhost:8080/",
          "height": 1000
        },
        "id": "pWKlggaHXp12",
        "outputId": "624fed00-895b-4007-bf60-e40491d07d28"
      },
      "execution_count": 50,
      "outputs": [
        {
          "output_type": "display_data",
          "data": {
            "text/plain": [
              "<Figure size 600x1000 with 2 Axes>"
            ],
            "image/png": "[encoded data removed]"
          },
          "metadata": {}
        }
      ]
    },
    {
      "cell_type": "markdown",
      "source": [
        "## Part b\n",
        "\n",
        "Repeat (a) for the following dataset:\n",
        "\n",
        "Samples for class 1 (𝜔1): 𝐗𝟏 = (𝑥1, 𝑥2) = {(6,8), (2,4), (2,3), (3,6)}\n",
        "\n",
        "Samples for class 2 (𝜔2):𝐗𝟐 = (𝑥1, 𝑥2) = {(9,5), (8,7), (10,8), (4,2), (4,4)}"
      ],
      "metadata": {
        "id": "cLM8Ib1cV3tb"
      }
    },
    {
      "cell_type": "code",
      "execution_count": 52,
      "metadata": {
        "colab": {
          "base_uri": "https://localhost:8080/",
          "height": 1000
        },
        "id": "PdyQGwLFxLMI",
        "outputId": "9dcbcf88-b3e8-4184-8a66-2271e74c04c2"
      },
      "outputs": [
        {
          "output_type": "display_data",
          "data": {
            "text/plain": [
              "<Figure size 600x1000 with 2 Axes>"
            ],
            "image/png": "[encoded data removed]"
          },
          "metadata": {}
        }
      ],
      "source": [
        "# Step 1: Define the dataset for part\n",
        "\n",
        "X1_b = np.array([[6,8], [2,4], [2,3], [3,6]])\n",
        "X2_b = np.array([[9,5], [8,7], [10,8], [4,2], [4,4]])\n",
        "# Combine the datasets\n",
        "X_b = np.vstack((X1_b, X2_b))\n",
        "y_b = np.array([0] * 4 + [1] * 5)  # Class labels: 0 for Class 1, 1 for Class 2\n",
        "\n",
        "\n",
        "# Step 2: PCA\n",
        "\n",
        "pca_b = PCA(n_components=2)\n",
        "X_pca_b = pca_b.fit_transform(X_b)\n",
        "\n",
        "\n",
        "# Step 3: LDA\n",
        "\n",
        "lda_b = LDA(n_components=1)\n",
        "X_lda_b = lda_b.fit_transform(X_b, y_b)\n",
        "\n",
        "\n",
        "# Step 4: Plotting\n",
        "\n",
        "fig, ax = plt.subplots(2, figsize=(6, 10))\n",
        "\n",
        "# PCA plotting\n",
        "ax[0].set_title(\"PCA\")\n",
        "\n",
        "ax[0].scatter(X1_b[:,0], X1_b[:,1], color=\"red\", label=\"X 1\")\n",
        "ax[0].scatter(X2_b[:,0], X2_b[:,1], color=\"blue\", label=\"X 2\")\n",
        "\n",
        "ax[0].quiver(*np.mean(X_b, axis=0), *pca_b.components_[0], scale=2, color=\"black\")\n",
        "\n",
        "ax[0].legend()\n",
        "ax[0].grid(True)\n",
        "\n",
        "# LDA projection plotting\n",
        "ax[1].set_title(\"LDA\")\n",
        "\n",
        "ax[1].scatter(X_lda_b[y_b==0], np.zeros_like(X_lda_b[y_b==0]), color='red', label='X 1')\n",
        "ax[1].scatter(X_lda_b[y_b==1], np.zeros_like(X_lda_b[y_b==1]), color='blue', label='X 2')\n",
        "\n",
        "ax[1].legend()\n",
        "ax[1].grid(True)\n",
        "\n",
        "plt.tight_layout()\n",
        "plt.show()"
      ]
    },
    {
      "cell_type": "markdown",
      "source": [
        "## Part c\n",
        "\n",
        "Comment and compare how good the 1D projected data in (a) and (b) can be classified after PCA and\n",
        "LDA.\n"
      ],
      "metadata": {
        "id": "Dea2S7XcWLi8"
      }
    },
    {
      "cell_type": "markdown",
      "source": [
        "In this question, two point datasets were examined and dimensional reduction methods was applied to both of them (principle component analysis and linear discriminant analysis). The steps to be followed are written at the beginning.\n",
        "\n",
        "**The Comparison**\n",
        "\n",
        "Dataset \"a\" shows more distinct clusters for each class in both the PCA and LDA projections. This can be seen in the PCA and LDA graph figures.\n",
        "This shows that dataset \"a\" may be easier to classify using the reduced 1D data."
      ],
      "metadata": {
        "id": "hJAFlXV_WP8t"
      }
    }
  ]
}